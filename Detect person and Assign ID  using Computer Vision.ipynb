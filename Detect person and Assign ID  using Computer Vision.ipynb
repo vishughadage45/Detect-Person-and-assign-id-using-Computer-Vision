{
 "cells": [
  {
   "cell_type": "code",
   "execution_count": 1,
   "id": "77fc2ca3",
   "metadata": {},
   "outputs": [],
   "source": [
    "import cv2\n",
    "import datetime\n",
    "import imutils\n",
    "import numpy as np\n",
    "from tracker import CentroidTracker"
   ]
  },
  {
   "cell_type": "code",
   "execution_count": 2,
   "id": "18558c11",
   "metadata": {},
   "outputs": [],
   "source": [
    "protopath='../../Downloads/AIComputerVision/MobileNetSSD_deploy.prototxt'\n",
    "modelpath='../../Downloads/AIComputerVision/MobileNetSSD_deploy.caffemodel'\n",
    "detector=cv2.dnn.readNetFromCaffe(prototxt=protopath,caffeModel=modelpath)"
   ]
  },
  {
   "cell_type": "code",
   "execution_count": 3,
   "id": "33dfb4a9",
   "metadata": {},
   "outputs": [],
   "source": [
    "\n",
    "CLASSES = [\"background\", \"aeroplane\", \"bicycle\", \"bird\", \"boat\",\n",
    "           \"bottle\", \"bus\", \"car\", \"cat\", \"chair\", \"cow\", \"diningtable\",\n",
    "           \"dog\", \"horse\", \"motorbike\", \"person\", \"pottedplant\", \"sheep\",\n",
    "           \"sofa\", \"train\", \"tvmonitor\",'Animals']"
   ]
  },
  {
   "cell_type": "code",
   "execution_count": 4,
   "id": "1fd3e6ec",
   "metadata": {},
   "outputs": [],
   "source": [
    "tracker = CentroidTracker(maxDisappeared=80)"
   ]
  },
  {
   "cell_type": "code",
   "execution_count": 5,
   "id": "0d1c7c09",
   "metadata": {},
   "outputs": [],
   "source": [
    "def non_max_suppression_fast(boxes, overlapThresh):\n",
    "    try:\n",
    "        if len(boxes) == 0:\n",
    "            return []\n",
    "\n",
    "        if boxes.dtype.kind == \"i\":\n",
    "            boxes = boxes.astype(\"float\")\n",
    "\n",
    "        pick = []\n",
    "\n",
    "        x1 = boxes[:, 0]\n",
    "        y1 = boxes[:, 1]\n",
    "        x2 = boxes[:, 2]\n",
    "        y2 = boxes[:, 3]\n",
    "\n",
    "        area = (x2 - x1 + 1) * (y2 - y1 + 1)\n",
    "        idxs = np.argsort(y2)\n",
    "\n",
    "        while len(idxs) > 0:\n",
    "            last = len(idxs) - 1\n",
    "            i = idxs[last]\n",
    "            pick.append(i)\n",
    "\n",
    "            xx1 = np.maximum(x1[i], x1[idxs[:last]])\n",
    "            yy1 = np.maximum(y1[i], y1[idxs[:last]])\n",
    "            xx2 = np.minimum(x2[i], x2[idxs[:last]])\n",
    "            yy2 = np.minimum(y2[i], y2[idxs[:last]])\n",
    "\n",
    "            w = np.maximum(0, xx2 - xx1 + 1)\n",
    "            h = np.maximum(0, yy2 - yy1 + 1)\n",
    "\n",
    "            overlap = (w * h) / area[idxs[:last]]\n",
    "\n",
    "            idxs = np.delete(idxs, np.concatenate(([last],\n",
    "                                                   np.where(overlap > overlapThresh)[0])))\n",
    "\n",
    "        return boxes[pick].astype(\"int\")\n",
    "    except Exception as e:\n",
    "        print(\"Exception occurred in non_max_suppression : {}\".format(e))"
   ]
  },
  {
   "cell_type": "code",
   "execution_count": 6,
   "id": "02ef32b5",
   "metadata": {},
   "outputs": [],
   "source": [
    "def main():\n",
    "    cap = cv2.VideoCapture('../../Downloads/AIComputerVision/test_video.mp4')\n",
    "\n",
    "    fps_start_time = datetime.datetime.now()\n",
    "    fps = 0\n",
    "    total_frames = 0\n",
    "\n",
    "    while True:\n",
    "        ret, frame = cap.read()\n",
    "        frame = imutils.resize(frame, width=600)\n",
    "        total_frames = total_frames + 1\n",
    "\n",
    "        (H, W) = frame.shape[:2]\n",
    "\n",
    "        blob = cv2.dnn.blobFromImage(frame, 0.007843, (W, H), 127.5)\n",
    "\n",
    "        detector.setInput(blob)\n",
    "        person_detections = detector.forward()\n",
    "        rects = []\n",
    "        for i in np.arange(0, person_detections.shape[2]):\n",
    "            confidence = person_detections[0, 0, i, 2]\n",
    "            if confidence > 0.5:\n",
    "                idx = int(person_detections[0, 0, i, 1])\n",
    "\n",
    "                if CLASSES[idx] != \"person\" :\n",
    "                    continue\n",
    "\n",
    "                person_box = person_detections[0, 0, i, 3:7] * np.array([W, H, W, H])\n",
    "                (startX, startY, endX, endY) = person_box.astype(\"int\")\n",
    "                rects.append(person_box)\n",
    "                \n",
    "        boundingboxes=np.array(rects)\n",
    "        boundingboxes=boundingboxes.astype('int')\n",
    "        rects=non_max_suppression_fast(boundingboxes,0.3)\n",
    "        \n",
    "        objects=tracker.update(rects)\n",
    "        d1 = {}\n",
    "        for i in objects:\n",
    "            d1.update(i)\n",
    "  #      print(rects)\n",
    "   #     print(objects)\n",
    "        objects = d1\n",
    "        for (objectId,bbox)in objects.items():\n",
    "            x1,y1,x2,y2 =bbox\n",
    "            x1=int(x1)\n",
    "            y1=int(y1)\n",
    "            x2=int(x2)\n",
    "            y2=int(y2)\n",
    "            \n",
    "            cv2.rectangle(frame,(x1,y1),(x2,y2),(0,0,255),2)\n",
    "            text='ID:{}'.format(objectId)\n",
    "            cv2.putText(frame,text,(x1,y1-5),cv2.FONT_HERSHEY_COMPLEX_SMALL,1,(0,0,255),1)\n",
    "                \n",
    "               \n",
    "        fps_end_time = datetime.datetime.now()\n",
    "        time_diff = fps_end_time - fps_start_time\n",
    "        if time_diff.seconds == 0:\n",
    "            fps = 0.0\n",
    "        else:\n",
    "            fps = (total_frames / time_diff.seconds)\n",
    "\n",
    "        fps_text = \"FPS: {:.2f}\".format(fps)\n",
    "\n",
    "        cv2.putText(frame, fps_text, (5, 30), cv2.FONT_HERSHEY_COMPLEX_SMALL, 1, (0, 0, 255), 1)\n",
    "\n",
    "        cv2.imshow(\"Application\", frame)\n",
    "        key = cv2.waitKey(1)\n",
    "        if key == ord('q'):\n",
    "            break\n",
    "    \n",
    "    cv2.destroyAllWindows()"
   ]
  },
  {
   "cell_type": "code",
   "execution_count": 7,
   "id": "7efcc83e",
   "metadata": {},
   "outputs": [],
   "source": [
    "main()"
   ]
  },
  {
   "cell_type": "code",
   "execution_count": null,
   "id": "ba47a1c1",
   "metadata": {},
   "outputs": [],
   "source": [
    "     "
   ]
  }
 ],
 "metadata": {
  "kernelspec": {
   "display_name": "Python 3 (ipykernel)",
   "language": "python",
   "name": "python3"
  },
  "language_info": {
   "codemirror_mode": {
    "name": "ipython",
    "version": 3
   },
   "file_extension": ".py",
   "mimetype": "text/x-python",
   "name": "python",
   "nbconvert_exporter": "python",
   "pygments_lexer": "ipython3",
   "version": "3.9.13"
  }
 },
 "nbformat": 4,
 "nbformat_minor": 5
}
